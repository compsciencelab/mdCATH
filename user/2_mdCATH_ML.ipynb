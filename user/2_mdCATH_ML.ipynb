{
 "cells": [
  {
   "cell_type": "markdown",
   "metadata": {},
   "source": [
    "### MDCATH DATASET IN MACHINE LEARNING FRAMEWORK"
   ]
  },
  {
   "cell_type": "markdown",
   "metadata": {},
   "source": [
    "This tutorial provides a practical example of training ML models using the mdCATH dataset in TorchMD-Net. Before you begin, please ensure that TorchMD-Net is correctly installed. You can find installation instructions and further details [here](https://torchmd-net.readthedocs.io/en/latest/installation.html). Note that the MDCATH dataloader is available starting from TorchMD-Net version 2.4.0 and later. "
   ]
  },
  {
   "cell_type": "code",
   "execution_count": 1,
   "metadata": {},
   "outputs": [
    {
     "name": "stderr",
     "output_type": "stream",
     "text": [
      "/shared/antoniom/mambaforge/envs/mdcath_torchmdnet/lib/python3.12/site-packages/torchmdnet/extensions/__init__.py:150: FutureWarning: `torch.library.impl_abstract` was renamed to `torch.library.register_fake`. Please use that instead; we will remove `torch.library.impl_abstract` in a future version of PyTorch.\n",
      "  impl_abstract(\n",
      "/shared/antoniom/mambaforge/envs/mdcath_torchmdnet/lib/python3.12/site-packages/torchmdnet/extensions/__init__.py:153: FutureWarning: `torch.library.impl_abstract` was renamed to `torch.library.register_fake`. Please use that instead; we will remove `torch.library.impl_abstract` in a future version of PyTorch.\n",
      "  impl_abstract(\n"
     ]
    }
   ],
   "source": [
    "import os\n",
    "import torch\n",
    "import lightning.pytorch as pl\n",
    "from torchmdnet.data import DataModule\n",
    "from torchmdnet.module import LNNP\n",
    "from torchmdnet.scripts.train import get_args\n",
    "from lightning.pytorch.callbacks import TQDMProgressBar, ModelCheckpoint\n",
    "from lightning.pytorch.loggers import CSVLogger"
   ]
  },
  {
   "cell_type": "code",
   "execution_count": 2,
   "metadata": {},
   "outputs": [],
   "source": [
    "# Define the arguments\n",
    "args = get_args() # default arguments by tmdnet\n",
    "args = vars(args) # convert to dictionary\n",
    "\n",
    "pargs = {\n",
    "    # DATA\n",
    "    'dataset': 'MDCATH',\n",
    "    'dataset_arg':{\n",
    "      'numAtoms': None,\n",
    "      'numResidues': None,\n",
    "      'pdb_list': ['1balA00', '1ce3A00', '1e8rA00'],\n",
    "      'temperatures': ['348'],\n",
    "      'skip_frames': 2,\n",
    "      'solid_ss': None,\n",
    "      },\n",
    "    'dataset_root': 'data',\n",
    "    # MODEL\n",
    "    'model': 'tensornet',\n",
    "    'embedding_dimension': 32,\n",
    "    'num_layers': 0,\n",
    "    'num_rbf': 8,\n",
    "    'rbf_type': 'expnorm',\n",
    "    'activation': 'silu',\n",
    "    'cutoff_lower': 0.0,\n",
    "    'cutoff_upper': 5.0,\n",
    "    'max_z': 20,\n",
    "    'num_epochs': 10,\n",
    "    'max_num_neighbors': 48,\n",
    "    'derivative': True, \n",
    "    # TRAIN\n",
    "    'batch_size': 3,\n",
    "    'train_size': 200, \n",
    "    'val_size': 50,\n",
    "    'test_size': 100,\n",
    "    'lr': 1e-3,\n",
    "    'lr_metric': 'val',\n",
    "    'log_dir': 'logs/',\n",
    "    'check_errors': True,\n",
    "    'static_shapes': False,\n",
    "    'num_workers': 2,\n",
    "}\n",
    "\n",
    "# Update the default arguments with the new ones\n",
    "args.update(pargs)\n",
    "os.makedirs(args['log_dir'], exist_ok=True)"
   ]
  },
  {
   "cell_type": "code",
   "execution_count": 3,
   "metadata": {},
   "outputs": [
    {
     "name": "stderr",
     "output_type": "stream",
     "text": [
      "Processing mdcath source: 100%|██████████| 3/3 [00:00<00:00, 13.53it/s]"
     ]
    },
    {
     "name": "stdout",
     "output_type": "stream",
     "text": [
      "train 200, val 50, test 100\n"
     ]
    },
    {
     "name": "stderr",
     "output_type": "stream",
     "text": [
      "\n",
      "/shared/antoniom/mambaforge/envs/mdcath_torchmdnet/lib/python3.12/site-packages/torchmdnet/utils.py:221: UserWarning: 2970 samples were excluded from the dataset\n",
      "  rank_zero_warn(f\"{dset_len - total} samples were excluded from the dataset\")\n"
     ]
    }
   ],
   "source": [
    "# Here MDCATH torch_geometric dataset class is used \n",
    "# If the h5 files are not present in the 'dataset_root' then they will be downloaded from HF\n",
    "# The downlaoad process can take some time\n",
    "\n",
    "data = DataModule(args)\n",
    "data.prepare_data()\n",
    "data.setup(\"fit\")"
   ]
  },
  {
   "cell_type": "code",
   "execution_count": 4,
   "metadata": {},
   "outputs": [],
   "source": [
    "# Lightning wrapper for the Neural Network Potentials in TorchMD-Net\n",
    "lnnp = LNNP(args, \n",
    "    prior_model=None, \n",
    "    mean=data.mean, \n",
    "    std=data.std)"
   ]
  },
  {
   "cell_type": "code",
   "execution_count": 5,
   "metadata": {},
   "outputs": [],
   "source": [
    "# Callbacks, used to save model ckpts\n",
    "val_loss_name = 'val_total_mse_loss'\n",
    "checkpoint_callback = ModelCheckpoint(dirpath=args['log_dir'], \n",
    "                                      monitor=val_loss_name, \n",
    "                                      every_n_epochs=2, \n",
    "                                      filename=f\"epoch={{epoch}}-val_loss={{{val_loss_name}:.4f}}\",\n",
    "                                      save_top_k=3)"
   ]
  },
  {
   "cell_type": "code",
   "execution_count": 6,
   "metadata": {},
   "outputs": [],
   "source": [
    "# Logger for the training process, it will save the training logs in a csv file\n",
    "csv_logger = CSVLogger(args['log_dir'], name=\"\", version=\"\")"
   ]
  },
  {
   "cell_type": "code",
   "execution_count": 7,
   "metadata": {},
   "outputs": [
    {
     "name": "stdout",
     "output_type": "stream",
     "text": [
      "cuda available: True\n",
      "cuda device count: 1\n",
      "CUDA_VISIBLE_DEVICES ID: 0\n"
     ]
    }
   ],
   "source": [
    "os.environ[\"CUDA_VISIBLE_DEVICES\"] = \"0\" \n",
    "print(f'cuda available: {torch.cuda.is_available()}')\n",
    "print(f'cuda device count: {torch.cuda.device_count()}')\n",
    "print(f'CUDA_VISIBLE_DEVICES ID: {os.environ[\"CUDA_VISIBLE_DEVICES\"]}')"
   ]
  },
  {
   "cell_type": "code",
   "execution_count": 11,
   "metadata": {},
   "outputs": [
    {
     "name": "stderr",
     "output_type": "stream",
     "text": [
      "GPU available: True (cuda), used: True\n",
      "TPU available: False, using: 0 TPU cores\n",
      "HPU available: False, using: 0 HPUs\n",
      "LOCAL_RANK: 0 - CUDA_VISIBLE_DEVICES: [0]\n",
      "\n",
      "  | Name  | Type        | Params | Mode \n",
      "----------------------------------------------\n",
      "0 | model | TorchMD_Net | 18.9 K | train\n",
      "----------------------------------------------\n",
      "18.9 K    Trainable params\n",
      "0         Non-trainable params\n",
      "18.9 K    Total params\n",
      "0.076     Total estimated model params size (MB)\n",
      "31        Modules in train mode\n",
      "0         Modules in eval mode\n"
     ]
    },
    {
     "name": "stdout",
     "output_type": "stream",
     "text": [
      "train 200, val 50, test 100\n",
      "Epoch 9: 100%|██████████| 67/67 [00:04<00:00, 16.14it/s]                   "
     ]
    },
    {
     "name": "stderr",
     "output_type": "stream",
     "text": [
      "`Trainer.fit` stopped: `max_epochs=10` reached.\n"
     ]
    },
    {
     "name": "stdout",
     "output_type": "stream",
     "text": [
      "Epoch 9: 100%|██████████| 67/67 [00:04<00:00, 16.03it/s]\n"
     ]
    }
   ],
   "source": [
    "# Train\n",
    "trainer = pl.Trainer(strategy=\"auto\",\n",
    "                     devices=1,\n",
    "                     max_epochs=args['num_epochs'], \n",
    "                     precision=args['precision'],\n",
    "                     default_root_dir = args['log_dir'],\n",
    "                     logger=csv_logger,\n",
    "                     callbacks=[checkpoint_callback, TQDMProgressBar(refresh_rate=1)])\n",
    "\n",
    "trainer.fit(lnnp, data, ckpt_path=None)"
   ]
  },
  {
   "cell_type": "code",
   "execution_count": 12,
   "metadata": {},
   "outputs": [
    {
     "name": "stderr",
     "output_type": "stream",
     "text": [
      "GPU available: True (cuda), used: True\n",
      "TPU available: False, using: 0 TPU cores\n",
      "HPU available: False, using: 0 HPUs\n",
      "LOCAL_RANK: 0 - CUDA_VISIBLE_DEVICES: [0]\n"
     ]
    },
    {
     "name": "stdout",
     "output_type": "stream",
     "text": [
      "train 200, val 50, test 100\n",
      "Testing DataLoader 0: 100%|██████████| 4/4 [00:00<00:00,  9.54it/s]\n",
      "────────────────────────────────────────────────────────────────────────────────────────────────────────────────────────\n",
      "       Test metric             DataLoader 0\n",
      "────────────────────────────────────────────────────────────────────────────────────────────────────────────────────────\n",
      "   test_neg_dy_l1_loss       4.174280643463135\n",
      "   test_total_l1_loss        4.174280643463135\n",
      "     test_y_l1_loss                 0.0\n",
      "────────────────────────────────────────────────────────────────────────────────────────────────────────────────────────\n"
     ]
    },
    {
     "data": {
      "text/plain": [
       "[{'test_total_l1_loss': 4.174280643463135,\n",
       "  'test_y_l1_loss': 0.0,\n",
       "  'test_neg_dy_l1_loss': 4.174280643463135}]"
      ]
     },
     "execution_count": 12,
     "metadata": {},
     "output_type": "execute_result"
    }
   ],
   "source": [
    "# Test\n",
    "model = LNNP.load_from_checkpoint(trainer.checkpoint_callback.best_model_path)\n",
    "trainer = pl.Trainer(inference_mode=False)\n",
    "trainer.test(model, data)"
   ]
  }
 ],
 "metadata": {
  "kernelspec": {
   "display_name": "gemini2",
   "language": "python",
   "name": "python3"
  },
  "language_info": {
   "codemirror_mode": {
    "name": "ipython",
    "version": 3
   },
   "file_extension": ".py",
   "mimetype": "text/x-python",
   "name": "python",
   "nbconvert_exporter": "python",
   "pygments_lexer": "ipython3",
   "version": "3.12.6"
  }
 },
 "nbformat": 4,
 "nbformat_minor": 2
}
