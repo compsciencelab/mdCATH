{
 "cells": [
  {
   "cell_type": "markdown",
   "metadata": {},
   "source": [
    "### TUTORIAL TO GET mdCATH H5 FILES"
   ]
  },
  {
   "cell_type": "markdown",
   "metadata": {},
   "source": [
    "Use the HuggingFace API to download the mdCATH dataset in H5 format directly from the HuggingFace Hub. In this notebook, we demonstrate how to use the API module for this purpose. Alternatively, you can download the dataset by appending the desired filename to the base URL: `https://huggingface.co/datasets/compsciencelab/mdCATH/resolve/main/`"
   ]
  },
  {
   "cell_type": "code",
   "execution_count": 3,
   "metadata": {},
   "outputs": [],
   "source": [
    "import os\n",
    "from os.path import join as opj\n",
    "from huggingface_hub import HfApi\n",
    "from huggingface_hub import hf_hub_download\n",
    "from huggingface_hub import hf_hub_url"
   ]
  },
  {
   "cell_type": "code",
   "execution_count": 2,
   "metadata": {},
   "outputs": [],
   "source": [
    "# Initialize the API\n",
    "api = HfApi()"
   ]
  },
  {
   "cell_type": "code",
   "execution_count": 8,
   "metadata": {},
   "outputs": [],
   "source": [
    "# Output directory\n",
    "data_root = '.'"
   ]
  },
  {
   "cell_type": "code",
   "execution_count": 9,
   "metadata": {},
   "outputs": [
    {
     "data": {
      "application/vnd.jupyter.widget-view+json": {
       "model_id": "15a7d808356d4c428da37c4bde5217de",
       "version_major": 2,
       "version_minor": 0
      },
      "text/plain": [
       "mdcath_dataset_1r9lA02.h5:   0%|          | 0.00/645M [00:00<?, ?B/s]"
      ]
     },
     "metadata": {},
     "output_type": "display_data"
    },
    {
     "data": {
      "text/plain": [
       "'data/mdcath_dataset_1r9lA02.h5'"
      ]
     },
     "execution_count": 9,
     "metadata": {},
     "output_type": "execute_result"
    }
   ],
   "source": [
    "domain_id = '1r9lA02'\n",
    "hf_hub_download(repo_id=\"compsciencelab/mdCATH\", \n",
    "                filename=f\"mdcath_dataset_{domain_id}.h5\",\n",
    "                subfolder='data',\n",
    "                local_dir=data_root,\n",
    "                repo_type=\"dataset\")"
   ]
  },
  {
   "cell_type": "markdown",
   "metadata": {},
   "source": [
    "Congratulations! You have successfully downloaded the mdCATH dataset in H5 format."
   ]
  }
 ],
 "metadata": {
  "kernelspec": {
   "display_name": "gemini2",
   "language": "python",
   "name": "python3"
  },
  "language_info": {
   "codemirror_mode": {
    "name": "ipython",
    "version": 3
   },
   "file_extension": ".py",
   "mimetype": "text/x-python",
   "name": "python",
   "nbconvert_exporter": "python",
   "pygments_lexer": "ipython3",
   "version": "3.10.13"
  }
 },
 "nbformat": 4,
 "nbformat_minor": 2
}
