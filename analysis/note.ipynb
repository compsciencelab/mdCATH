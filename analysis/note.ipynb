{
 "cells": [
  {
   "cell_type": "markdown",
   "metadata": {},
   "source": [
    "#### CHECK mdCATH H5 FILES"
   ]
  },
  {
   "cell_type": "code",
   "execution_count": null,
   "metadata": {},
   "outputs": [],
   "source": [
    "from os.path import join as opj\n",
    "from glob import glob\n",
    "import os\n",
    "import pandas as pd\n",
    "import h5py as h5\n",
    "import numpy as np\n",
    "import matplotlib \n",
    "import matplotlib.pyplot as plt\n",
    "import matplotlib.patches as mpatches"
   ]
  },
  {
   "cell_type": "code",
   "execution_count": null,
   "metadata": {},
   "outputs": [],
   "source": [
    "pdbid = '1cqzB02'\n",
    "mdcath_dir = \"/workspace3/mdcath/\"\n",
    "h5file = opj(mdcath_dir, f\"mdcath_dataset_{pdbid}.h5\")\n",
    "f = h5.File(h5file, 'r')\n",
    "sim_name = '379'\n",
    "repl = '0'\n",
    "print(f'keys:{f.keys()}')\n",
    "print(f'attrs:{f.attrs[\"layout\"]}')"
   ]
  },
  {
   "cell_type": "code",
   "execution_count": null,
   "metadata": {},
   "outputs": [],
   "source": [
    "print(f'molDatasets --> {f[pdbid].keys()}')\n",
    "print(f'molAttrs --> {f[pdbid].attrs.keys()}')"
   ]
  },
  {
   "cell_type": "code",
   "execution_count": null,
   "metadata": {},
   "outputs": [],
   "source": [
    "print(pdbid)\n",
    "print(f\"numChains --> {f[pdbid].attrs['numChains']}\")\n",
    "print(f\"numProteinAtoms --> {f[pdbid].attrs['numProteinAtoms']}\")\n",
    "print(f\"numResidues --> {f[pdbid].attrs['numResidues']}\")"
   ]
  },
  {
   "cell_type": "code",
   "execution_count": null,
   "metadata": {},
   "outputs": [],
   "source": [
    "print(f\"z.shape --> {f[pdbid]['z'].shape}\")\n",
    "print(f\"z --> {f[pdbid]['z'][:10]}\")"
   ]
  },
  {
   "cell_type": "code",
   "execution_count": null,
   "metadata": {},
   "outputs": [],
   "source": [
    "# recover idxs of Ca from pdbProteinAtoms\n",
    "pdbProteinAtoms = f[pdbid]['pdbProteinAtoms'][()].decode('utf-8').split('\\n')[1:-3] # remove header and footer\n",
    "atomtypes = [line.split()[2] for line in pdbProteinAtoms]\n",
    "ca_indices = np.where(np.array(atomtypes) == 'CA')[0]\n",
    "print(f'Number of CA atoms: {len(ca_indices)}')"
   ]
  },
  {
   "cell_type": "code",
   "execution_count": null,
   "metadata": {},
   "outputs": [],
   "source": [
    "print(f\"pdbProteinAtoms\\n\\n{f[pdbid]['pdbProteinAtoms'][()].decode('utf-8')}\")"
   ]
  },
  {
   "cell_type": "code",
   "execution_count": null,
   "metadata": {},
   "outputs": [],
   "source": [
    "print(f\"PDB\\n\\n{f[pdbid]['pdb'][()].decode('utf-8')}\")"
   ]
  },
  {
   "cell_type": "code",
   "execution_count": null,
   "metadata": {},
   "outputs": [],
   "source": [
    "print(f\"PSF\\n\\n{f[pdbid]['psf'][()].decode('utf-8')}\")"
   ]
  },
  {
   "cell_type": "code",
   "execution_count": null,
   "metadata": {},
   "outputs": [],
   "source": [
    "print(f'{sim_name} --> {f[pdbid][sim_name].keys()}')\n",
    "print(f'{sim_name} --> {f[pdbid][sim_name].attrs.keys()}')"
   ]
  },
  {
   "cell_type": "code",
   "execution_count": null,
   "metadata": {},
   "outputs": [],
   "source": [
    "for key, data in f[pdbid][sim_name][str(repl)].items():\n",
    "    print(f'prop {key} --> {data.shape}')\n",
    "    for attr in data.attrs.keys():\n",
    "        print(f'{attr} --> {data.attrs[attr]}')"
   ]
  },
  {
   "cell_type": "code",
   "execution_count": null,
   "metadata": {},
   "outputs": [],
   "source": [
    "for replattr in f[pdbid][sim_name][str(repl)].attrs.keys():\n",
    "    print(f'{replattr} --> {f[pdbid][sim_name][str(repl)].attrs[replattr]}')"
   ]
  },
  {
   "cell_type": "code",
   "execution_count": null,
   "metadata": {},
   "outputs": [],
   "source": [
    "skipframes = 2\n",
    "conf_idx =  f[pdbid][sim_name][str(repl)]['coords'].shape[0] -1 \n",
    "print(f'conf_idx --> {conf_idx}')\n",
    "z = f[pdbid][\"z\"][:]\n",
    "coords = np.zeros((z.shape[0], 3))\n",
    "forces = np.zeros((z.shape[0], 3))\n",
    "slice_idxs = np.s_[conf_idx:conf_idx+1]\n",
    "group = f[f\"{pdbid}/{sim_name}/{repl}\"]\n",
    "group['coords'].read_direct(coords, slice_idxs)\n",
    "group['forces'].read_direct(forces, slice_idxs)\n",
    "print(f'coords --> {coords.shape}')\n",
    "print(f'forces --> {forces.shape}')"
   ]
  },
  {
   "cell_type": "code",
   "execution_count": null,
   "metadata": {},
   "outputs": [],
   "source": [
    "for simsname in [\"320\", \"348\", \"379\", \"413\", \"450\"]:\n",
    "    for repln in range(5):\n",
    "        print(f\"{simsname} Replica {repln} --> {f[pdbid][simsname][str(repln)].attrs['numFrames']}\")"
   ]
  },
  {
   "cell_type": "code",
   "execution_count": null,
   "metadata": {},
   "outputs": [],
   "source": [
    "rmsd = f[pdbid][sim_name][str(repl)]['rmsd'][:]\n",
    "rmsf = f[pdbid][sim_name][str(repl)]['rmsf'][:]\n",
    "gyration_radius = f[pdbid][sim_name][str(repl)]['gyrationRadius'][:]\n",
    "print(f\"rmsd.shape --> {rmsd.shape}\")\n",
    "print(f\"rmsf.shape --> {rmsf.shape}\")\n",
    "print(f\"gyration_radius.shape --> {gyration_radius.shape}\")"
   ]
  },
  {
   "cell_type": "code",
   "execution_count": null,
   "metadata": {},
   "outputs": [],
   "source": [
    "# plot rmsd, rmsd, gyration radius\n",
    "time = np.arange(0, len(rmsd))/10 # time in ns\n",
    "fig, axs = plt.subplots(1, 3, figsize=(18, 5))\n",
    "axs = axs.flatten()\n",
    "last_frame =  rmsd.shape[0]\n",
    "##\n",
    "axs[0].plot(time[:last_frame], rmsd[:last_frame])\n",
    "axs[0].set_title('RMSD')\n",
    "axs[0].set_ylabel('RMSD (nm)')\n",
    "axs[0].set_xlabel('Time (ns)')\n",
    "##\n",
    "axs[1].plot(rmsf)\n",
    "axs[1].set_title('RMSF')\n",
    "axs[1].set_ylabel('RMSF (nm)')\n",
    "axs[1].set_xlabel('residue id')\n",
    "## \n",
    "axs[2].plot(time, gyration_radius)\n",
    "axs[2].set_title('Gyration Radius')\n",
    "axs[2].set_ylabel('Gyration Radius (nm)')\n",
    "axs[2].set_xlabel('Time (ns)')\n",
    "\n",
    "plt.tight_layout()\n",
    "plt.show()"
   ]
  },
  {
   "cell_type": "code",
   "execution_count": null,
   "metadata": {},
   "outputs": [],
   "source": [
    "encoded_dssp = f[pdbid][sim_name][str(repl)]['dssp']\n",
    "#floatMap = {'C': 0, 'E': 1, 'H': 2}\n",
    "floatMap = {\"H\": 0, \"B\": 1, \"E\": 2, \"G\": 0, \"I\": 0, \"T\": 5, \"S\": 6, \" \": 7}\n",
    "dssp_decoded_float = np.zeros((encoded_dssp.shape[0], encoded_dssp.shape[1]), dtype=np.float32)\n",
    "for i in range(encoded_dssp.shape[0]):\n",
    "    dssp_decoded_float[i] = [floatMap[el.decode()] for el in encoded_dssp[i]]\n",
    "print(f\"dssp_decoded.shape --> {dssp_decoded_float.shape}\")"
   ]
  },
  {
   "cell_type": "code",
   "execution_count": null,
   "metadata": {},
   "outputs": [],
   "source": [
    "color_list = [\"blue\", \"black\", \"red\", \"grey\", \"purple\", \"yellow\", \"seagreen\", \"white\"]\n",
    "cmap = matplotlib.colors.ListedColormap(color_list)\n",
    "fig, ax = plt.subplots(1, 1, figsize=(10, 5))\n",
    "xtime = np.arange(0, len(dssp_decoded_float)) / 10\n",
    "x_min, x_max = xtime[0], xtime[-1]\n",
    "extent = [x_min, x_max, len(dssp_decoded_float.T), 0]\n",
    "\n",
    "cax = ax.imshow(dssp_decoded_float.T, aspect='auto', cmap=cmap, extent=extent)\n",
    "labels = [\"$\\\\alpha$-helix\", \"$\\\\beta$-Bridge\", \"$\\\\beta$-sheet\", \"3-10 helix\", \"$\\\\pi$-helix\", \"Turn\", \"Bend\", \"Coils\"]\n",
    "handles = [mpatches.Patch(facecolor=color_list[i], label=labels[i], edgecolor=\"darkgrey\") for i in range(len(color_list))]\n",
    "plt.legend(handles=handles, loc='center left', bbox_to_anchor=(1, 0.5))\n",
    "\n",
    "plt.title('DSSP')   \n",
    "plt.xlabel('Time (ns)')\n",
    "plt.ylabel('Residue ID')\n",
    "plt.tight_layout()\n",
    "plt.show()"
   ]
  },
  {
   "cell_type": "code",
   "execution_count": null,
   "metadata": {},
   "outputs": [],
   "source": [
    "floatMap = {\"H\": 0, \"B\": 1, \"E\": 1, \"G\": 0, \"I\": 0, \"T\": 2, \"S\": 2, \" \": 2}\n",
    "dssp_decoded_float = np.zeros((encoded_dssp.shape[0], encoded_dssp.shape[1]), dtype=np.float32)\n",
    "for i in range(encoded_dssp.shape[0]):\n",
    "    dssp_decoded_float[i] = [floatMap[el.decode()] for el in encoded_dssp[i]]\n",
    "print(f\"dssp_decoded.shape --> {dssp_decoded_float.shape}\")\n",
    "solid_fraction_time = np.logical_or(dssp_decoded_float == 0, dssp_decoded_float == 1).mean(axis=0)\n",
    "plt.figure(figsize=(5, 5))\n",
    "# color by residue number\n",
    "plt.scatter(rmsf, solid_fraction_time, c=np.arange(len(rmsf)), cmap='rainbow')\n",
    "plt.xlabel('RMSF (nm)')\n",
    "plt.ylabel('Solid Fraction')\n",
    "plt.xlim(0, 2)\n",
    "plt.ylim(-0.1, 1.1)\n",
    "plt.show()"
   ]
  },
  {
   "cell_type": "code",
   "execution_count": null,
   "metadata": {},
   "outputs": [],
   "source": [
    "coords = f[pdbid][sim_name][str(1)][\"coords\"]#[:,ca_indices,:]\n",
    "forces = f[pdbid][sim_name][str(1)][\"forces\"]#[:,ca_indices,:]\n",
    "print(f'coords --> {coords.shape}, units: {f[pdbid][sim_name][\"0\"][\"coords\"].attrs[\"unit\"]}')\n",
    "print(f'forces --> {forces.shape}, units: {f[pdbid][sim_name][\"0\"][\"forces\"].attrs[\"unit\"]}')"
   ]
  },
  {
   "cell_type": "code",
   "execution_count": null,
   "metadata": {},
   "outputs": [],
   "source": [
    "def plot_box(box, ax, origin=[0, 0, 0]):\n",
    "    from mpl_toolkits.mplot3d.art3d import Poly3DCollection, Line3DCollection\n",
    "    \n",
    "    # Compute original vertices centered at the origin\n",
    "    vertices = np.array([[-box[0][0]/2, -box[1][1]/2, -box[2][2]/2],\n",
    "                        [box[0][0]/2, -box[1][1]/2, -box[2][2]/2],\n",
    "                        [-box[0][0]/2, box[1][1]/2, -box[2][2]/2],\n",
    "                        [box[0][0]/2, box[1][1]/2, -box[2][2]/2],\n",
    "                        [-box[0][0]/2, -box[1][1]/2, box[2][2]/2],\n",
    "                        [box[0][0]/2, -box[1][1]/2, box[2][2]/2],\n",
    "                        [-box[0][0]/2, box[1][1]/2, box[2][2]/2],\n",
    "                        [box[0][0]/2, box[1][1]/2, box[2][2]/2]])\n",
    "\n",
    "    # Translate vertices to make the box center at 'origin'\n",
    "    vertices = vertices + origin\n",
    "\n",
    "    # List of sides' vertices indices\n",
    "    edges = [\n",
    "        [vertices[0], vertices[1], vertices[3], vertices[2]],  # Bottom face\n",
    "        [vertices[4], vertices[5], vertices[7], vertices[6]],  # Top face\n",
    "        [vertices[0], vertices[1], vertices[5], vertices[4]],  # Front face\n",
    "        [vertices[2], vertices[3], vertices[7], vertices[6]],  # Back face\n",
    "        [vertices[0], vertices[2], vertices[6], vertices[4]],  # Left face\n",
    "        [vertices[1], vertices[3], vertices[7], vertices[5]]   # Right face\n",
    "    ]\n",
    "\n",
    "    # Create a 3D polygon collection for the faces\n",
    "    faces = Poly3DCollection(edges, linewidths=1, edgecolors='k', alpha=0.1)\n",
    "    ax.add_collection3d(faces)\n",
    "\n",
    "    # Plot the vertices\n",
    "    ax.scatter(vertices[:, 0], vertices[:, 1], vertices[:, 2], s=5, color='r')"
   ]
  },
  {
   "cell_type": "code",
   "execution_count": null,
   "metadata": {},
   "outputs": [],
   "source": [
    "import matplotlib.pyplot as plt\n",
    "box = f[pdbid][sim_name][str(repl)][\"box\"][:] * 10\n",
    "init_coords = coords[0]\n",
    "init_coords_barycenter = np.mean(init_coords, axis=0)\n",
    "end_coords = coords[-1]\n",
    "end_coords_barycenter = np.mean(end_coords, axis=0)\n",
    "fig = plt.figure()\n",
    "ax = fig.add_subplot(121, projection='3d')\n",
    "ax.set_title('Initial Coordinates')\n",
    "ax.scatter(init_coords[:,0], init_coords[:,1], init_coords[:,2], s=2)\n",
    "plot_box(box, ax, init_coords_barycenter)\n",
    "ax1 = fig.add_subplot(122, projection='3d')\n",
    "ax1.set_title('Final Coordinates')\n",
    "ax1.scatter(end_coords[:,0], end_coords[:,1], end_coords[:,2], s=2)\n",
    "plot_box(box, ax1, end_coords_barycenter)\n",
    "plt.show()"
   ]
  },
  {
   "cell_type": "code",
   "execution_count": null,
   "metadata": {},
   "outputs": [],
   "source": [
    "# histogram of forces \n",
    "plt.figure(figsize=(8,5))\n",
    "plt.grid()\n",
    "force_atom_i = forces[:, 50, 2]\n",
    "plt.plot(force_atom_i)\n",
    "plt.xlabel('Time (ns)')\n",
    "plt.show()"
   ]
  },
  {
   "cell_type": "code",
   "execution_count": null,
   "metadata": {},
   "outputs": [],
   "source": [
    "# histogram of forces \n",
    "plt.figure(figsize=(8,5))\n",
    "plt.grid()\n",
    "normForces = np.linalg.norm(forces[0], axis=1)\n",
    "plt.hist(normForces, bins=50)\n",
    "plt.ylabel(\"Atom Count\")\n",
    "plt.xlabel(\"Force (kcal/mol/A)\")\n",
    "plt.show()"
   ]
  }
 ],
 "metadata": {
  "kernelspec": {
   "display_name": "gemini2",
   "language": "python",
   "name": "python3"
  },
  "language_info": {
   "codemirror_mode": {
    "name": "ipython",
    "version": 3
   },
   "file_extension": ".py",
   "mimetype": "text/x-python",
   "name": "python",
   "nbconvert_exporter": "python",
   "pygments_lexer": "ipython3",
   "version": "3.10.13"
  }
 },
 "nbformat": 4,
 "nbformat_minor": 2
}
