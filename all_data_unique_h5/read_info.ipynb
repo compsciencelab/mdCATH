{
 "cells": [
  {
   "cell_type": "code",
   "execution_count": null,
   "metadata": {},
   "outputs": [],
   "source": [
    "import h5py \n",
    "from os.path import join as opj\n",
    "import numpy as np"
   ]
  },
  {
   "cell_type": "code",
   "execution_count": null,
   "metadata": {},
   "outputs": [],
   "source": [
    "data = h5py.File(\"mdcath_analysis_0.h5\", 'r')\n",
    "print(f\"Total number of samples: {len(data.keys())}\")"
   ]
  },
  {
   "cell_type": "code",
   "execution_count": null,
   "metadata": {},
   "outputs": [],
   "source": [
    "pdb = '12asA00'\n",
    "temp = '348'\n",
    "repl = '0'"
   ]
  },
  {
   "cell_type": "code",
   "execution_count": null,
   "metadata": {},
   "outputs": [],
   "source": [
    "data[pdb].keys()"
   ]
  },
  {
   "cell_type": "code",
   "execution_count": null,
   "metadata": {},
   "outputs": [],
   "source": [
    "data[pdb].attrs.keys()"
   ]
  },
  {
   "cell_type": "code",
   "execution_count": null,
   "metadata": {},
   "outputs": [],
   "source": [
    "data[pdb][temp].keys()"
   ]
  },
  {
   "cell_type": "code",
   "execution_count": null,
   "metadata": {},
   "outputs": [],
   "source": [
    "for k in data[pdb][temp][repl].attrs.keys():\n",
    "    print(k, data[pdb][temp][repl].attrs[k])"
   ]
  },
  {
   "cell_type": "code",
   "execution_count": null,
   "metadata": {},
   "outputs": [],
   "source": [
    "for dat in data[pdb][temp][repl].keys():\n",
    "    print(dat, data[pdb][temp][repl][dat].shape)"
   ]
  },
  {
   "cell_type": "code",
   "execution_count": null,
   "metadata": {},
   "outputs": [],
   "source": [
    "ssd = data[pdb][temp][repl]['solid_secondary_structure'][:]\n",
    "gyration = data[pdb][temp][repl]['gyration_radius'][:]\n",
    "rmsf = data[pdb][temp][repl]['rmsf'][:]\n",
    "print(ssd.shape, gyration.shape)"
   ]
  },
  {
   "cell_type": "code",
   "execution_count": null,
   "metadata": {},
   "outputs": [],
   "source": [
    "import matplotlib.pyplot as plt\n",
    "import seaborn as sns\n",
    "fig, axs = plt.subplots(1, 4, figsize=(25, 5))\n",
    "\n",
    "axs[0].plot(ssd)\n",
    "axs[0].set_ylabel('Solid Secondary Structure')\n",
    "axs[0].set_xlabel('frame')\n",
    "\n",
    "axs[1].plot(gyration)\n",
    "axs[1].set_ylabel('Gyration Radius (nm)')\n",
    "axs[1].set_xlabel('frame')\n",
    "\n",
    "axs[2].scatter(ssd, gyration)\n",
    "axs[2].set_xlabel('Solid Secondary Structure')\n",
    "axs[2].set_ylabel('Gyration Radius (nm)')\n",
    "\n",
    "axs[3].plot(rmsf)\n",
    "axs[3].set_ylabel('RMSF (nm)')\n",
    "axs[3].set_xlabel('residue')\n",
    "fig.suptitle(f\"{pdb}\", fontsize=16)\n",
    "\n",
    "plt.subplots_adjust(wspace=0.25)\n",
    "plt.show()"
   ]
  }
 ],
 "metadata": {
  "kernelspec": {
   "display_name": "gemini2",
   "language": "python",
   "name": "python3"
  },
  "language_info": {
   "codemirror_mode": {
    "name": "ipython",
    "version": 3
   },
   "file_extension": ".py",
   "mimetype": "text/x-python",
   "name": "python",
   "nbconvert_exporter": "python",
   "pygments_lexer": "ipython3",
   "version": "3.10.13"
  }
 },
 "nbformat": 4,
 "nbformat_minor": 2
}
