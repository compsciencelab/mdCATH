{
 "cells": [
  {
   "cell_type": "code",
   "execution_count": null,
   "metadata": {},
   "outputs": [],
   "source": [
    "import h5py\n",
    "import numpy as np\n",
    "from os.path import join as opj\n",
    "import matplotlib.pyplot as plt"
   ]
  },
  {
   "cell_type": "code",
   "execution_count": null,
   "metadata": {},
   "outputs": [],
   "source": [
    "# Read the source/analysis file\n",
    "file_name = \"mdcath_analysis.h5\"\n",
    "data = h5py.File(opj(\"h5files\", file_name), \"r\")\n",
    "print(f\"Total number of samples: {len(data.keys())}\")"
   ]
  },
  {
   "cell_type": "code",
   "execution_count": null,
   "metadata": {},
   "outputs": [],
   "source": [
    "# Specify the sample to be analyzed\n",
    "pdb = \"4i69A00\"\n",
    "temp = \"379\"\n",
    "repl = \"4\""
   ]
  },
  {
   "cell_type": "code",
   "execution_count": null,
   "metadata": {},
   "outputs": [],
   "source": [
    "available_temps = list(data[pdb].keys())\n",
    "print(f'Available temperatures: {available_temps}')"
   ]
  },
  {
   "cell_type": "code",
   "execution_count": null,
   "metadata": {},
   "outputs": [],
   "source": [
    "for k in data[pdb].attrs.keys():\n",
    "    print(k, data[pdb].attrs[k])"
   ]
  },
  {
   "cell_type": "code",
   "execution_count": null,
   "metadata": {},
   "outputs": [],
   "source": [
    "for temperature in available_temps:\n",
    "    print(temperature)\n",
    "    for replica in data[pdb][temperature].keys():\n",
    "        print(f\"replica {replica} --> {data[pdb][temperature][replica].attrs['numFrames']} frames\")\n",
    "    print()"
   ]
  },
  {
   "cell_type": "code",
   "execution_count": null,
   "metadata": {},
   "outputs": [],
   "source": [
    "available_repls = list(data[pdb][temp].keys())\n",
    "print(f'Available replicas ({temp}K): {available_repls}')"
   ]
  },
  {
   "cell_type": "code",
   "execution_count": null,
   "metadata": {},
   "outputs": [],
   "source": [
    "for k in data[pdb][temp][repl].attrs.keys():\n",
    "    print(f'trajectory {pdb}/{temp}/{repl} -->', k, data[pdb][temp][repl].attrs[k])"
   ]
  },
  {
   "cell_type": "code",
   "execution_count": null,
   "metadata": {},
   "outputs": [],
   "source": [
    "for dat in data[pdb][temp][repl].keys():\n",
    "    print(dat, f'shape -> {data[pdb][temp][repl][dat].shape}')"
   ]
  },
  {
   "cell_type": "code",
   "execution_count": null,
   "metadata": {},
   "outputs": [],
   "source": [
    "if \"mdcath_analysis\" in file_name:\n",
    "    ssd = data[pdb][temp][repl][\"solid_secondary_structure\"][:]\n",
    "    gyration = data[pdb][temp][repl][\"gyration_radius\"][:]\n",
    "    rmsf = data[pdb][temp][repl][\"rmsf\"][:]\n",
    "    rmsd = data[pdb][temp][repl][\"rmsd\"][:]\n"
   ]
  },
  {
   "cell_type": "code",
   "execution_count": null,
   "metadata": {},
   "outputs": [],
   "source": [
    "if \"mdcath_analysis\" in file_name:\n",
    "    fig = plt.figure(figsize=(6, 4))\n",
    "    plt.title(f\"{pdb} - {temp}K - {repl}\\nRMSD\")\n",
    "    plt.plot(rmsd)\n",
    "    plt.xlabel(\"Frame\")\n",
    "    plt.ylabel(\"RMSD (nm)\")\n",
    "    plt.tight_layout()\n",
    "    plt.show()"
   ]
  },
  {
   "cell_type": "code",
   "execution_count": null,
   "metadata": {},
   "outputs": [],
   "source": [
    "if \"mdcath_analysis\" in file_name:\n",
    "    fig, axs = plt.subplots(1, 4, figsize=(25, 5))\n",
    "    axs[0].plot(ssd)\n",
    "    axs[0].set_ylabel(\"Solid Secondary Structure\")\n",
    "    axs[0].set_xlabel(\"frame\")\n",
    "    axs[0].set_title('Solid Secondary Structure')\n",
    "\n",
    "    axs[1].plot(gyration)\n",
    "    axs[1].set_ylabel(\"Gyration Radius (nm)\")\n",
    "    axs[1].set_xlabel(\"frame\")\n",
    "    axs[1].set_title('Gyration Radius')\n",
    "\n",
    "    axs[2].scatter(ssd, gyration)\n",
    "    axs[2].set_xlabel(\"Solid Secondary Structure\")\n",
    "    axs[2].set_ylabel(\"Gyration Radius (nm)\")\n",
    "    axs[2].set_title('SSS vs GR')\n",
    "\n",
    "    axs[3].plot(rmsf)\n",
    "    axs[3].set_ylabel(\"RMSF (nm)\")\n",
    "    axs[3].set_xlabel(\"residue\")\n",
    "    axs[3].set_title('RMSF')\n",
    "    fig.suptitle(f\"{pdb}\", fontsize=16)\n",
    "\n",
    "    plt.subplots_adjust(wspace=0.25, top=0.85)\n",
    "    plt.show()"
   ]
  }
 ],
 "metadata": {
  "kernelspec": {
   "display_name": "gemini2",
   "language": "python",
   "name": "python3"
  },
  "language_info": {
   "codemirror_mode": {
    "name": "ipython",
    "version": 3
   },
   "file_extension": ".py",
   "mimetype": "text/x-python",
   "name": "python",
   "nbconvert_exporter": "python",
   "pygments_lexer": "ipython3",
   "version": "3.10.13"
  }
 },
 "nbformat": 4,
 "nbformat_minor": 2
}
